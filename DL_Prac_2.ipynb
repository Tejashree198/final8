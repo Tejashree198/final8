{
  "nbformat": 4,
  "nbformat_minor": 0,
  "metadata": {
    "colab": {
      "provenance": []
    },
    "kernelspec": {
      "name": "python3",
      "display_name": "Python 3"
    },
    "language_info": {
      "name": "python"
    }
  },
  "cells": [
    {
      "cell_type": "code",
      "execution_count": null,
      "metadata": {
        "id": "P1Vk1phkuNl7"
      },
      "outputs": [],
      "source": [
        "import numpy as np\n",
        "from keras.datasets import imdb\n",
        "from keras.preprocessing.sequence import pad_sequences\n",
        "from keras.models import Sequential\n",
        "from keras.layers import Embedding, Bidirectional, LSTM, Dense\n"
      ]
    },
    {
      "cell_type": "code",
      "source": [
        "# Load the IMDB dataset with a limited vocabulary size\n",
        "vocab_size = 10000\n",
        "(x_train, y_train), (x_test, y_test) = imdb.load_data(num_words=vocab_size)"
      ],
      "metadata": {
        "colab": {
          "base_uri": "https://localhost:8080/"
        },
        "id": "yMYMVhy933fQ",
        "outputId": "58fe4156-43b2-455a-8a5f-078b9ab22eef"
      },
      "execution_count": null,
      "outputs": [
        {
          "output_type": "stream",
          "name": "stdout",
          "text": [
            "Downloading data from https://storage.googleapis.com/tensorflow/tf-keras-datasets/imdb.npz\n",
            "17464789/17464789 [==============================] - 0s 0us/step\n"
          ]
        }
      ]
    },
    {
      "cell_type": "code",
      "source": [
        "# Pad or truncate the sequences to a fixed length of 250 words\n",
        "max_len = 250\n",
        "x_train = pad_sequences(x_train, maxlen=max_len)\n",
        "x_test = pad_sequences(x_test, maxlen=max_len)"
      ],
      "metadata": {
        "id": "Q6YNhpHB38HS"
      },
      "execution_count": null,
      "outputs": []
    },
    {
      "cell_type": "code",
      "source": [
        "# Define the deep neural network architecture\n",
        "model = Sequential()\n",
        "model.add(Embedding(input_dim=vocab_size, output_dim=128, input_length=max_len))\n",
        "model.add(Bidirectional(LSTM(64, return_sequences=True)))\n",
        "model.add(Bidirectional(LSTM(32)))\n",
        "model.add(Dense(1, activation='sigmoid'))"
      ],
      "metadata": {
        "id": "JAiEx4ps3_yE"
      },
      "execution_count": null,
      "outputs": []
    },
    {
      "cell_type": "code",
      "source": [
        "# Compile the model\n",
        "model.compile(loss='binary_crossentropy', optimizer='adam', metrics=['accuracy'])"
      ],
      "metadata": {
        "id": "V3zA-4FY4HID"
      },
      "execution_count": null,
      "outputs": []
    },
    {
      "cell_type": "code",
      "source": [
        "# Train the model\n",
        "history = model.fit(x_train, y_train, epochs=10, batch_size=128, validation_split=0.2)"
      ],
      "metadata": {
        "colab": {
          "base_uri": "https://localhost:8080/"
        },
        "id": "VdLVINmf4Kk7",
        "outputId": "4dd2e1c2-d44a-4b76-d1d9-452108678f54"
      },
      "execution_count": null,
      "outputs": [
        {
          "output_type": "stream",
          "name": "stdout",
          "text": [
            "Epoch 1/10\n",
            "157/157 [==============================] - 277s 2s/step - loss: 0.4857 - accuracy: 0.7618 - val_loss: 0.4132 - val_accuracy: 0.8338\n",
            "Epoch 2/10\n",
            "157/157 [==============================] - 268s 2s/step - loss: 0.2651 - accuracy: 0.8972 - val_loss: 0.2970 - val_accuracy: 0.8864\n",
            "Epoch 3/10\n",
            "157/157 [==============================] - 264s 2s/step - loss: 0.1835 - accuracy: 0.9334 - val_loss: 0.3419 - val_accuracy: 0.8642\n",
            "Epoch 4/10\n",
            "157/157 [==============================] - 263s 2s/step - loss: 0.1207 - accuracy: 0.9607 - val_loss: 0.4320 - val_accuracy: 0.8362\n",
            "Epoch 5/10\n",
            "157/157 [==============================] - 262s 2s/step - loss: 0.0960 - accuracy: 0.9705 - val_loss: 0.4261 - val_accuracy: 0.8564\n",
            "Epoch 6/10\n",
            "157/157 [==============================] - 263s 2s/step - loss: 0.0729 - accuracy: 0.9775 - val_loss: 0.4879 - val_accuracy: 0.8644\n",
            "Epoch 7/10\n",
            "157/157 [==============================] - 271s 2s/step - loss: 0.0519 - accuracy: 0.9858 - val_loss: 0.5156 - val_accuracy: 0.8568\n",
            "Epoch 8/10\n",
            "157/157 [==============================] - 265s 2s/step - loss: 0.0467 - accuracy: 0.9875 - val_loss: 0.5344 - val_accuracy: 0.8416\n",
            "Epoch 9/10\n",
            "157/157 [==============================] - 259s 2s/step - loss: 0.0348 - accuracy: 0.9910 - val_loss: 0.5988 - val_accuracy: 0.8368\n",
            "Epoch 10/10\n",
            "157/157 [==============================] - 258s 2s/step - loss: 0.0378 - accuracy: 0.9906 - val_loss: 0.5682 - val_accuracy: 0.8570\n"
          ]
        }
      ]
    },
    {
      "cell_type": "code",
      "source": [
        "# Evaluate the model on the test set\n",
        "loss, acc = model.evaluate(x_test, y_test, batch_size=128)\n",
        "print(f'Test accuracy: {acc:.4f}, Test loss: {loss:.4f}')"
      ],
      "metadata": {
        "colab": {
          "base_uri": "https://localhost:8080/"
        },
        "id": "cj9hRfU94OU1",
        "outputId": "430d5f4d-5445-4952-ebb0-9d6f1e2b0504"
      },
      "execution_count": null,
      "outputs": [
        {
          "output_type": "stream",
          "name": "stdout",
          "text": [
            "196/196 [==============================] - 104s 529ms/step - loss: 0.5957 - accuracy: 0.8489\n",
            "Test accuracy: 0.8489, Test loss: 0.5957\n"
          ]
        }
      ]
    }
  ]
}