{
  "nbformat": 4,
  "nbformat_minor": 0,
  "metadata": {
    "colab": {
      "provenance": []
    },
    "kernelspec": {
      "name": "python3",
      "display_name": "Python 3"
    },
    "language_info": {
      "name": "python"
    }
  },
  "cells": [
    {
      "cell_type": "code",
      "execution_count": null,
      "metadata": {
        "colab": {
          "base_uri": "https://localhost:8080/"
        },
        "id": "9G0z6kC2rPaq",
        "outputId": "b0b9c8c8-4124-4cec-f134-8bdb3fe24921"
      },
      "outputs": [
        {
          "output_type": "stream",
          "name": "stdout",
          "text": [
            "      crim    zn  indus  chas    nox     rm   age     dis  rad  tax  ptratio  \\\n",
            "0  0.00632  18.0   2.31     0  0.538  6.575  65.2  4.0900    1  296     15.3   \n",
            "1  0.02731   0.0   7.07     0  0.469  6.421  78.9  4.9671    2  242     17.8   \n",
            "2  0.02729   0.0   7.07     0  0.469  7.185  61.1  4.9671    2  242     17.8   \n",
            "3  0.03237   0.0   2.18     0  0.458  6.998  45.8  6.0622    3  222     18.7   \n",
            "4  0.06905   0.0   2.18     0  0.458  7.147  54.2  6.0622    3  222     18.7   \n",
            "\n",
            "        b  lstat  medv  \n",
            "0  396.90   4.98  24.0  \n",
            "1  396.90   9.14  21.6  \n",
            "2  392.83   4.03  34.7  \n",
            "3  394.63   2.94  33.4  \n",
            "4  396.90   5.33  36.2  \n"
          ]
        }
      ],
      "source": [
        "import pandas as pd\n",
        "\n",
        "# Load the dataset from a CSV file\n",
        "df = pd.read_csv('BostonHousing.csv')\n",
        "\n",
        "# Display the first few rows of the dataset\n",
        "print(df.head())\n"
      ]
    },
    {
      "cell_type": "code",
      "source": [
        "from sklearn.preprocessing import StandardScaler\n",
        "\n",
        "# Split the data into input and output variables\n",
        "X = df.drop('medv', axis=1)\n",
        "y = df['medv']\n",
        "\n",
        "# Scale the input features\n",
        "scaler = StandardScaler()\n",
        "X = scaler.fit_transform(X)\n",
        "\n",
        "# Display the first few rows of the scaled input features\n",
        "print(X[:5])\n"
      ],
      "metadata": {
        "colab": {
          "base_uri": "https://localhost:8080/"
        },
        "id": "aeW1VRpUrxYD",
        "outputId": "75791210-4070-4fed-c767-2d02f2486f94"
      },
      "execution_count": null,
      "outputs": [
        {
          "output_type": "stream",
          "name": "stdout",
          "text": [
            "[[-0.41978194  0.28482986 -1.2879095  -0.27259857 -0.14421743  0.41367189\n",
            "  -0.12001342  0.1402136  -0.98284286 -0.66660821 -1.45900038  0.44105193\n",
            "  -1.0755623 ]\n",
            " [-0.41733926 -0.48772236 -0.59338101 -0.27259857 -0.74026221  0.19427445\n",
            "   0.36716642  0.55715988 -0.8678825  -0.98732948 -0.30309415  0.44105193\n",
            "  -0.49243937]\n",
            " [-0.41734159 -0.48772236 -0.59338101 -0.27259857 -0.74026221  1.28271368\n",
            "  -0.26581176  0.55715988 -0.8678825  -0.98732948 -0.30309415  0.39642699\n",
            "  -1.2087274 ]\n",
            " [-0.41675042 -0.48772236 -1.30687771 -0.27259857 -0.83528384  1.01630251\n",
            "  -0.80988851  1.07773662 -0.75292215 -1.10611514  0.1130321   0.41616284\n",
            "  -1.36151682]\n",
            " [-0.41248185 -0.48772236 -1.30687771 -0.27259857 -0.83528384  1.22857665\n",
            "  -0.51117971  1.07773662 -0.75292215 -1.10611514  0.1130321   0.44105193\n",
            "  -1.02650148]]\n"
          ]
        }
      ]
    },
    {
      "cell_type": "code",
      "source": [
        "from sklearn.model_selection import train_test_split\n",
        "\n",
        "# Split the data into training and testing sets\n",
        "X_train, X_test, y_train, y_test = train_test_split(X, y, test_size=0.3, random_state=42)\n",
        "\n",
        "# Print the shapes of the training and testing sets\n",
        "print('Training set shape:', X_train.shape, y_train.shape)\n",
        "print('Testing set shape:', X_test.shape, y_test.shape)\n"
      ],
      "metadata": {
        "colab": {
          "base_uri": "https://localhost:8080/"
        },
        "id": "pbJM9XJLsMG8",
        "outputId": "4c87c80a-473b-432d-d093-bba88d900282"
      },
      "execution_count": null,
      "outputs": [
        {
          "output_type": "stream",
          "name": "stdout",
          "text": [
            "Training set shape: (354, 13) (354,)\n",
            "Testing set shape: (152, 13) (152,)\n"
          ]
        }
      ]
    },
    {
      "cell_type": "code",
      "source": [
        "from keras.models import Sequential\n",
        "from keras.layers import Dense, Dropout\n",
        "\n",
        "# Define the model architecture\n",
        "model = Sequential()\n",
        "model.add(Dense(64, input_dim=13, activation='relu'))\n",
        "model.add(Dropout(0.2))\n",
        "model.add(Dense(32, activation='relu'))\n",
        "model.add(Dense(1))\n",
        "\n",
        "# Display the model summary\n",
        "print(model.summary())\n"
      ],
      "metadata": {
        "colab": {
          "base_uri": "https://localhost:8080/"
        },
        "id": "45T_Oi8psX6S",
        "outputId": "b5391a5c-d27c-4919-a8e7-080e080e9596"
      },
      "execution_count": null,
      "outputs": [
        {
          "output_type": "stream",
          "name": "stdout",
          "text": [
            "Model: \"sequential_7\"\n",
            "_________________________________________________________________\n",
            " Layer (type)                Output Shape              Param #   \n",
            "=================================================================\n",
            " dense_15 (Dense)            (None, 64)                896       \n",
            "                                                                 \n",
            " dropout_5 (Dropout)         (None, 64)                0         \n",
            "                                                                 \n",
            " dense_16 (Dense)            (None, 32)                2080      \n",
            "                                                                 \n",
            " dense_17 (Dense)            (None, 1)                 33        \n",
            "                                                                 \n",
            "=================================================================\n",
            "Total params: 3009 (11.75 KB)\n",
            "Trainable params: 3009 (11.75 KB)\n",
            "Non-trainable params: 0 (0.00 Byte)\n",
            "_________________________________________________________________\n",
            "None\n"
          ]
        }
      ]
    },
    {
      "cell_type": "code",
      "source": [
        "# Compile the model\n",
        "model.compile(loss='mean_squared_error', optimizer='adam', metrics=['mean_absolute_error'])\n"
      ],
      "metadata": {
        "id": "abU41frCsqfP"
      },
      "execution_count": null,
      "outputs": []
    },
    {
      "cell_type": "code",
      "source": [
        "from keras.callbacks import EarlyStopping\n",
        "\n",
        "# Train the model\n",
        "early_stopping = EarlyStopping(monitor='val_loss', patience=5)\n",
        "history = model.fit(X_train, y_train, validation_split=0.2, epochs=100, batch_size=32, callbacks=[early_stopping])\n",
        "\n",
        "# Plot the training and validation loss over epochs\n",
        "import matplotlib.pyplot as plt\n",
        "plt.plot(history.history['loss'])\n",
        "plt.plot(history.history['val_loss'])\n",
        "plt.title('Model Loss')\n",
        "plt.xlabel('Epochs')\n",
        "plt.ylabel('Loss')\n",
        "plt.legend(['Training', 'Validation'])\n",
        "plt.show()\n"
      ],
      "metadata": {
        "colab": {
          "base_uri": "https://localhost:8080/",
          "height": 1000
        },
        "id": "sObWNlBIsva3",
        "outputId": "836eb3d5-096f-411c-d584-e554356620fa"
      },
      "execution_count": null,
      "outputs": [
        {
          "output_type": "stream",
          "name": "stdout",
          "text": [
            "Epoch 1/100\n",
            "9/9 [==============================] - 1s 29ms/step - loss: 599.5436 - mean_absolute_error: 22.5869 - val_loss: 544.4238 - val_mean_absolute_error: 21.8513\n",
            "Epoch 2/100\n",
            "9/9 [==============================] - 0s 6ms/step - loss: 562.7831 - mean_absolute_error: 21.7700 - val_loss: 510.0283 - val_mean_absolute_error: 21.0590\n",
            "Epoch 3/100\n",
            "9/9 [==============================] - 0s 9ms/step - loss: 525.8566 - mean_absolute_error: 20.9047 - val_loss: 472.5409 - val_mean_absolute_error: 20.1640\n",
            "Epoch 4/100\n",
            "9/9 [==============================] - 0s 7ms/step - loss: 486.0800 - mean_absolute_error: 19.9501 - val_loss: 429.8597 - val_mean_absolute_error: 19.1034\n",
            "Epoch 5/100\n",
            "9/9 [==============================] - 0s 7ms/step - loss: 432.8051 - mean_absolute_error: 18.6721 - val_loss: 380.0211 - val_mean_absolute_error: 17.7999\n",
            "Epoch 6/100\n",
            "9/9 [==============================] - 0s 6ms/step - loss: 379.7911 - mean_absolute_error: 17.2319 - val_loss: 323.7861 - val_mean_absolute_error: 16.2254\n",
            "Epoch 7/100\n",
            "9/9 [==============================] - 0s 8ms/step - loss: 316.0264 - mean_absolute_error: 15.5067 - val_loss: 262.1719 - val_mean_absolute_error: 14.4003\n",
            "Epoch 8/100\n",
            "9/9 [==============================] - 0s 7ms/step - loss: 247.8968 - mean_absolute_error: 13.3216 - val_loss: 200.0117 - val_mean_absolute_error: 12.2673\n",
            "Epoch 9/100\n",
            "9/9 [==============================] - 0s 7ms/step - loss: 191.6839 - mean_absolute_error: 11.3684 - val_loss: 143.3388 - val_mean_absolute_error: 9.9089\n",
            "Epoch 10/100\n",
            "9/9 [==============================] - 0s 8ms/step - loss: 136.6823 - mean_absolute_error: 9.3686 - val_loss: 99.6995 - val_mean_absolute_error: 7.7159\n",
            "Epoch 11/100\n",
            "9/9 [==============================] - 0s 19ms/step - loss: 103.4350 - mean_absolute_error: 8.0091 - val_loss: 70.7650 - val_mean_absolute_error: 6.0704\n",
            "Epoch 12/100\n",
            "9/9 [==============================] - 0s 29ms/step - loss: 80.3038 - mean_absolute_error: 7.0469 - val_loss: 53.5844 - val_mean_absolute_error: 5.1538\n",
            "Epoch 13/100\n",
            "9/9 [==============================] - 0s 17ms/step - loss: 63.2006 - mean_absolute_error: 6.1538 - val_loss: 43.8168 - val_mean_absolute_error: 4.6404\n",
            "Epoch 14/100\n",
            "9/9 [==============================] - 0s 14ms/step - loss: 54.8062 - mean_absolute_error: 5.6102 - val_loss: 37.9390 - val_mean_absolute_error: 4.2354\n",
            "Epoch 15/100\n",
            "9/9 [==============================] - 0s 19ms/step - loss: 52.0497 - mean_absolute_error: 5.3736 - val_loss: 34.3747 - val_mean_absolute_error: 4.0053\n",
            "Epoch 16/100\n",
            "9/9 [==============================] - 0s 15ms/step - loss: 39.7250 - mean_absolute_error: 4.7556 - val_loss: 32.2203 - val_mean_absolute_error: 3.8840\n",
            "Epoch 17/100\n",
            "9/9 [==============================] - 0s 16ms/step - loss: 41.0953 - mean_absolute_error: 4.8593 - val_loss: 31.1364 - val_mean_absolute_error: 3.8119\n",
            "Epoch 18/100\n",
            "9/9 [==============================] - 0s 18ms/step - loss: 34.1494 - mean_absolute_error: 4.4597 - val_loss: 30.1392 - val_mean_absolute_error: 3.7493\n",
            "Epoch 19/100\n",
            "9/9 [==============================] - 0s 11ms/step - loss: 31.5985 - mean_absolute_error: 4.1741 - val_loss: 29.2416 - val_mean_absolute_error: 3.7016\n",
            "Epoch 20/100\n",
            "9/9 [==============================] - 0s 14ms/step - loss: 28.2117 - mean_absolute_error: 4.0165 - val_loss: 28.7422 - val_mean_absolute_error: 3.6808\n",
            "Epoch 21/100\n",
            "9/9 [==============================] - 0s 11ms/step - loss: 29.7816 - mean_absolute_error: 4.1283 - val_loss: 28.5129 - val_mean_absolute_error: 3.6726\n",
            "Epoch 22/100\n",
            "9/9 [==============================] - 0s 16ms/step - loss: 28.8148 - mean_absolute_error: 3.9724 - val_loss: 28.3644 - val_mean_absolute_error: 3.6611\n",
            "Epoch 23/100\n",
            "9/9 [==============================] - 0s 16ms/step - loss: 29.3061 - mean_absolute_error: 4.1266 - val_loss: 27.8119 - val_mean_absolute_error: 3.6165\n",
            "Epoch 24/100\n",
            "9/9 [==============================] - 0s 45ms/step - loss: 27.5777 - mean_absolute_error: 3.9478 - val_loss: 27.1432 - val_mean_absolute_error: 3.5676\n",
            "Epoch 25/100\n",
            "9/9 [==============================] - 0s 28ms/step - loss: 25.5492 - mean_absolute_error: 3.7347 - val_loss: 26.6118 - val_mean_absolute_error: 3.5294\n",
            "Epoch 26/100\n",
            "9/9 [==============================] - 0s 34ms/step - loss: 26.9187 - mean_absolute_error: 3.8570 - val_loss: 26.4027 - val_mean_absolute_error: 3.5080\n",
            "Epoch 27/100\n",
            "9/9 [==============================] - 0s 27ms/step - loss: 24.4206 - mean_absolute_error: 3.8318 - val_loss: 25.8911 - val_mean_absolute_error: 3.4696\n",
            "Epoch 28/100\n",
            "9/9 [==============================] - 0s 31ms/step - loss: 25.5676 - mean_absolute_error: 3.7392 - val_loss: 25.4821 - val_mean_absolute_error: 3.4474\n",
            "Epoch 29/100\n",
            "9/9 [==============================] - 0s 26ms/step - loss: 22.9735 - mean_absolute_error: 3.6202 - val_loss: 25.2528 - val_mean_absolute_error: 3.4286\n",
            "Epoch 30/100\n",
            "9/9 [==============================] - 0s 16ms/step - loss: 25.1635 - mean_absolute_error: 3.8366 - val_loss: 25.2751 - val_mean_absolute_error: 3.4189\n",
            "Epoch 31/100\n",
            "9/9 [==============================] - 0s 19ms/step - loss: 24.5392 - mean_absolute_error: 3.6713 - val_loss: 24.9525 - val_mean_absolute_error: 3.3897\n",
            "Epoch 32/100\n",
            "9/9 [==============================] - 0s 19ms/step - loss: 21.9878 - mean_absolute_error: 3.5231 - val_loss: 24.5226 - val_mean_absolute_error: 3.3639\n",
            "Epoch 33/100\n",
            "9/9 [==============================] - 0s 7ms/step - loss: 24.2482 - mean_absolute_error: 3.6905 - val_loss: 24.2252 - val_mean_absolute_error: 3.3398\n",
            "Epoch 34/100\n",
            "9/9 [==============================] - 0s 11ms/step - loss: 20.1635 - mean_absolute_error: 3.4118 - val_loss: 24.4311 - val_mean_absolute_error: 3.3454\n",
            "Epoch 35/100\n",
            "9/9 [==============================] - 0s 11ms/step - loss: 20.8626 - mean_absolute_error: 3.4478 - val_loss: 23.8513 - val_mean_absolute_error: 3.3023\n",
            "Epoch 36/100\n",
            "9/9 [==============================] - 0s 13ms/step - loss: 20.8942 - mean_absolute_error: 3.4619 - val_loss: 23.2042 - val_mean_absolute_error: 3.2668\n",
            "Epoch 37/100\n",
            "9/9 [==============================] - 0s 12ms/step - loss: 21.3120 - mean_absolute_error: 3.5658 - val_loss: 22.9963 - val_mean_absolute_error: 3.2482\n",
            "Epoch 38/100\n",
            "9/9 [==============================] - 0s 11ms/step - loss: 18.6615 - mean_absolute_error: 3.2524 - val_loss: 23.2005 - val_mean_absolute_error: 3.2658\n",
            "Epoch 39/100\n",
            "9/9 [==============================] - 0s 10ms/step - loss: 21.0168 - mean_absolute_error: 3.4139 - val_loss: 22.6480 - val_mean_absolute_error: 3.2301\n",
            "Epoch 40/100\n",
            "9/9 [==============================] - 0s 11ms/step - loss: 18.4195 - mean_absolute_error: 3.2809 - val_loss: 22.4356 - val_mean_absolute_error: 3.2062\n",
            "Epoch 41/100\n",
            "9/9 [==============================] - 0s 9ms/step - loss: 21.3587 - mean_absolute_error: 3.4624 - val_loss: 22.1802 - val_mean_absolute_error: 3.1977\n",
            "Epoch 42/100\n",
            "9/9 [==============================] - 0s 10ms/step - loss: 20.9787 - mean_absolute_error: 3.4478 - val_loss: 22.2012 - val_mean_absolute_error: 3.2066\n",
            "Epoch 43/100\n",
            "9/9 [==============================] - 0s 11ms/step - loss: 18.5945 - mean_absolute_error: 3.2434 - val_loss: 21.9650 - val_mean_absolute_error: 3.1819\n",
            "Epoch 44/100\n",
            "9/9 [==============================] - 0s 11ms/step - loss: 18.4642 - mean_absolute_error: 3.1936 - val_loss: 21.8134 - val_mean_absolute_error: 3.1679\n",
            "Epoch 45/100\n",
            "9/9 [==============================] - 0s 13ms/step - loss: 18.5870 - mean_absolute_error: 3.2536 - val_loss: 22.1546 - val_mean_absolute_error: 3.2124\n",
            "Epoch 46/100\n",
            "9/9 [==============================] - 0s 10ms/step - loss: 18.6625 - mean_absolute_error: 3.0746 - val_loss: 21.9299 - val_mean_absolute_error: 3.1910\n",
            "Epoch 47/100\n",
            "9/9 [==============================] - 0s 11ms/step - loss: 19.4711 - mean_absolute_error: 3.3284 - val_loss: 21.5438 - val_mean_absolute_error: 3.1505\n",
            "Epoch 48/100\n",
            "9/9 [==============================] - 0s 9ms/step - loss: 19.4638 - mean_absolute_error: 3.2692 - val_loss: 21.3585 - val_mean_absolute_error: 3.1287\n",
            "Epoch 49/100\n",
            "9/9 [==============================] - 0s 9ms/step - loss: 19.2556 - mean_absolute_error: 3.1840 - val_loss: 21.2722 - val_mean_absolute_error: 3.1318\n",
            "Epoch 50/100\n",
            "9/9 [==============================] - 0s 12ms/step - loss: 16.4612 - mean_absolute_error: 3.0637 - val_loss: 21.2346 - val_mean_absolute_error: 3.1314\n",
            "Epoch 51/100\n",
            "9/9 [==============================] - 0s 10ms/step - loss: 18.1215 - mean_absolute_error: 3.1940 - val_loss: 20.9367 - val_mean_absolute_error: 3.1062\n",
            "Epoch 52/100\n",
            "9/9 [==============================] - 0s 11ms/step - loss: 18.5657 - mean_absolute_error: 3.1110 - val_loss: 20.5163 - val_mean_absolute_error: 3.0786\n",
            "Epoch 53/100\n",
            "9/9 [==============================] - 0s 9ms/step - loss: 19.4493 - mean_absolute_error: 3.2425 - val_loss: 20.2263 - val_mean_absolute_error: 3.0507\n",
            "Epoch 54/100\n",
            "9/9 [==============================] - 0s 11ms/step - loss: 17.5673 - mean_absolute_error: 3.1213 - val_loss: 20.3448 - val_mean_absolute_error: 3.0677\n",
            "Epoch 55/100\n",
            "9/9 [==============================] - 0s 12ms/step - loss: 16.1544 - mean_absolute_error: 2.9348 - val_loss: 20.7765 - val_mean_absolute_error: 3.1149\n",
            "Epoch 56/100\n",
            "9/9 [==============================] - 0s 13ms/step - loss: 16.6848 - mean_absolute_error: 3.0576 - val_loss: 21.0222 - val_mean_absolute_error: 3.1349\n",
            "Epoch 57/100\n",
            "9/9 [==============================] - 0s 12ms/step - loss: 19.2338 - mean_absolute_error: 3.3039 - val_loss: 20.5445 - val_mean_absolute_error: 3.0929\n",
            "Epoch 58/100\n",
            "9/9 [==============================] - 0s 12ms/step - loss: 19.7614 - mean_absolute_error: 3.3003 - val_loss: 20.1452 - val_mean_absolute_error: 3.0709\n",
            "Epoch 59/100\n",
            "9/9 [==============================] - 0s 12ms/step - loss: 15.1920 - mean_absolute_error: 2.9181 - val_loss: 20.3988 - val_mean_absolute_error: 3.0947\n",
            "Epoch 60/100\n",
            "9/9 [==============================] - 0s 13ms/step - loss: 20.0222 - mean_absolute_error: 3.3552 - val_loss: 20.1697 - val_mean_absolute_error: 3.0789\n",
            "Epoch 61/100\n",
            "9/9 [==============================] - 0s 7ms/step - loss: 17.2598 - mean_absolute_error: 3.1455 - val_loss: 19.6196 - val_mean_absolute_error: 3.0381\n",
            "Epoch 62/100\n",
            "9/9 [==============================] - 0s 9ms/step - loss: 17.4347 - mean_absolute_error: 3.1380 - val_loss: 19.5874 - val_mean_absolute_error: 3.0383\n",
            "Epoch 63/100\n",
            "9/9 [==============================] - 0s 6ms/step - loss: 14.3973 - mean_absolute_error: 2.8655 - val_loss: 19.2816 - val_mean_absolute_error: 3.0134\n",
            "Epoch 64/100\n",
            "9/9 [==============================] - 0s 9ms/step - loss: 17.8907 - mean_absolute_error: 3.2498 - val_loss: 19.4297 - val_mean_absolute_error: 3.0270\n",
            "Epoch 65/100\n",
            "9/9 [==============================] - 0s 9ms/step - loss: 18.4202 - mean_absolute_error: 3.1219 - val_loss: 19.7269 - val_mean_absolute_error: 3.0503\n",
            "Epoch 66/100\n",
            "9/9 [==============================] - 0s 9ms/step - loss: 16.0778 - mean_absolute_error: 2.9588 - val_loss: 19.5839 - val_mean_absolute_error: 3.0394\n",
            "Epoch 67/100\n",
            "9/9 [==============================] - 0s 9ms/step - loss: 15.6526 - mean_absolute_error: 2.9275 - val_loss: 19.7128 - val_mean_absolute_error: 3.0545\n",
            "Epoch 68/100\n",
            "9/9 [==============================] - 0s 7ms/step - loss: 16.6168 - mean_absolute_error: 3.0133 - val_loss: 19.6424 - val_mean_absolute_error: 3.0517\n"
          ]
        },
        {
          "output_type": "display_data",
          "data": {
            "text/plain": [
              "<Figure size 640x480 with 1 Axes>"
            ],
            "image/png": "[encoded data removed]"
          },
          "metadata": {}
        }
      ]
    },
    {
      "cell_type": "code",
      "source": [
        "# Evaluate the model on the testing set\n",
        "loss, mae = model.evaluate(X_test, y_test)\n",
        "\n",
        "# Print the mean absolute error\n",
        "print('Mean Absolute Error:', mae)\n"
      ],
      "metadata": {
        "colab": {
          "base_uri": "https://localhost:8080/"
        },
        "id": "0pZtju2UswCH",
        "outputId": "d3c766bb-4f67-445c-fe77-7f32dd798e49"
      },
      "execution_count": null,
      "outputs": [
        {
          "output_type": "stream",
          "name": "stdout",
          "text": [
            "5/5 [==============================] - 0s 8ms/step - loss: 12.9492 - mean_absolute_error: 2.3991\n",
            "Mean Absolute Error: 2.399060010910034\n"
          ]
        }
      ]
    }
  ]
}